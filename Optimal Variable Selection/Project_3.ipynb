{
 "cells": [
  {
   "cell_type": "code",
   "execution_count": 1,
   "id": "c8b98106",
   "metadata": {},
   "outputs": [],
   "source": [
    "# Imports\n",
    "\n",
    "import pandas as pd\n",
    "import numpy as np\n",
    "import gurobipy as gp\n",
    "import matplotlib.pyplot as plt\n",
    "from sklearn.linear_model import LassoCV"
   ]
  },
  {
   "cell_type": "markdown",
   "id": "b3c7b51c",
   "metadata": {},
   "source": [
    "# Set Parameters below -"
   ]
  },
  {
   "cell_type": "code",
   "execution_count": 2,
   "id": "1a3dedde",
   "metadata": {},
   "outputs": [],
   "source": [
    "#####################################################\n",
    "\n",
    "### Import Data ###\n",
    "\n",
    "training_data = pd.read_csv(\"data/training_data.csv\")\n",
    "test_data = pd.read_csv(\"data/test_data.csv\")\n",
    "\n",
    "### Set Time Limit per iteration (in seconds)###\n",
    "time_limit=700\n",
    "\n",
    "### Set range of k-fold to be considered ###\n",
    "var_to_test = range(5,51,5)\n",
    "\n",
    "### Set k for k-fold cross validation\n",
    "k = 10\n",
    "#####################################################"
   ]
  },
  {
   "cell_type": "markdown",
   "id": "76d58350",
   "metadata": {},
   "source": [
    "# Define Functions to be used later"
   ]
  },
  {
   "cell_type": "markdown",
   "id": "a25c3a41",
   "metadata": {},
   "source": [
    "## Function to get Beta values"
   ]
  },
  {
   "cell_type": "code",
   "execution_count": 3,
   "id": "5736fab5",
   "metadata": {},
   "outputs": [],
   "source": [
    "### Create function to solve for betas\n",
    "\n",
    "def get_betas(X,y,k,time_limit=60):\n",
    "    # Convert into correct format\n",
    "    X = np.array(X)\n",
    "    y = np.array(y)\n",
    "    \n",
    "    # No. of variables\n",
    "    m = X.shape[1]\n",
    "    #print(m)\n",
    "    \n",
    "    # Add column of ones to X to account for Beta_0\n",
    "    X = np.append(np.ones(X.shape[0]).reshape(X.shape[0],1),X,1)\n",
    "    #print(X)\n",
    "    # Get quadratic term of objective\n",
    "    Q = X.T @ X\n",
    "    \n",
    "    # We need Quad objective to be of dimensions (2m+1)x(2m+1)\n",
    "    Q_obj = np.zeros((2*m+1,2*m+1))\n",
    "    Q_obj[:m+1,:m+1] = Q\n",
    "    #print(Q_obj)\n",
    "    # Get Linear term of objective\n",
    "    L = y.T @ X\n",
    "    #print(L)\n",
    "    L = -2*L\n",
    "    #print(len(L))\n",
    "    \n",
    "    # We need linear objective to be of length 2m+1\n",
    "    L_obj = np.zeros(2*m+1)\n",
    "    L_obj[:m+1] = L\n",
    "    \n",
    "    \n",
    "    # Now let's set the constraints\n",
    "    n_constraints = m + m + 1\n",
    "    n_var = len(L_obj)\n",
    "    \n",
    "    \n",
    "    A = np.zeros((n_constraints, n_var))\n",
    "    sense=[]\n",
    "    b=[]\n",
    "    # Big M Constraints\n",
    "    M = 100\n",
    "    \n",
    "    # Upper bound Big M\n",
    "    for j in range(m):\n",
    "        A[j,[1+j,m+1+j]] = [1,-M]\n",
    "        sense.append('<')\n",
    "        b.append(0)\n",
    "        \n",
    "    # Lower bound Big M\n",
    "    for j in range(m):\n",
    "        A[m+j,[1+j,m+1+j]] = [1,M]\n",
    "        sense.append('>')\n",
    "        b.append(0)\n",
    "        \n",
    "    # Sum of all binary variables should be lesser than k\n",
    "    A[2*m,(m+1):] = 1\n",
    "    sense.append('<')\n",
    "    b.append(k)\n",
    "    \n",
    "    # Set upper and lower bounds\n",
    "    ub = np.array([M]*(m+1) + [1]*m)\n",
    "    lb = np.array([-M]*(m+1) + [0]*m)\n",
    "    # Set correct format\n",
    "    b = np.array(b)\n",
    "    sense = np.array(sense)\n",
    "    \n",
    "    # Set Variable type\n",
    "    vtype=['C']*(m+1) + ['B']*m\n",
    "    \n",
    "    ############## GUROBI SOLVER#############\n",
    "    ojModel = gp.Model() # initialize an empty model\n",
    "\n",
    "    ojModX = ojModel.addMVar(len(L_obj), vtype=vtype, ub=ub, lb=lb) # tell the model how many variables there are\n",
    "    # must define the variables before adding constraints because variables go into the constraints\n",
    "    ojModCon = ojModel.addMConstrs(A, ojModX, sense, b) # add the constraints to the model\n",
    "    ojModel.setMObjective(Q_obj,L_obj,0,sense=gp.GRB.MINIMIZE) # add the objective to the model...we'll talk about the None and the 0\n",
    "\n",
    "    ojModel.Params.OutputFlag = 0 # tell gurobi to shut up!!\n",
    "    ojModel.Params.TimeLimit = time_limit\n",
    "    #print(k)\n",
    "    #print(\"Optimizing...\")\n",
    "    ojModel.optimize() # solve the LP\n",
    "    val = ojModel.objVal # optimal level\n",
    "    print(\"A: \", A)\n",
    "    print(\"b: \",b)\n",
    "    \n",
    "    \n",
    "    return ojModX.x, val"
   ]
  },
  {
   "cell_type": "markdown",
   "id": "9ae8f251",
   "metadata": {},
   "source": [
    "## Function to predict on dataset with beta values"
   ]
  },
  {
   "cell_type": "code",
   "execution_count": 4,
   "id": "b5a4e285",
   "metadata": {},
   "outputs": [],
   "source": [
    "def predict(betas,X):\n",
    "    X = np.array(X)\n",
    "    \n",
    "    # Set variable count\n",
    "    m = X.shape[1]\n",
    "    \n",
    "    # Initialize array to store predicted values\n",
    "    y_pred = []\n",
    "    \n",
    "    # Get sumproduct and predict\n",
    "    \n",
    "    for i in range(X.shape[0]):\n",
    "        # Prediction = Beta_0 + Beta1*X1 + Beta_2*X2 + ...\n",
    "        pred = betas[0] + np.dot(X[i,:],betas[1:])\n",
    "        y_pred.append(pred)\n",
    "        \n",
    "    return y_pred"
   ]
  },
  {
   "cell_type": "markdown",
   "id": "13809274",
   "metadata": {},
   "source": [
    "## Function to get MSE"
   ]
  },
  {
   "cell_type": "code",
   "execution_count": 5,
   "id": "529ce4b8",
   "metadata": {},
   "outputs": [],
   "source": [
    "def get_mse(y_true, y_pred):\n",
    "    # Typecasting\n",
    "    y_true = np.array(y_true)\n",
    "    y_pred = np.array(y_pred)\n",
    "    \n",
    "    # MSE\n",
    "    return ((y_pred-y_true)**2).mean()"
   ]
  },
  {
   "cell_type": "markdown",
   "id": "fa7d188c",
   "metadata": {},
   "source": [
    "## Function for k-fold cross validation"
   ]
  },
  {
   "cell_type": "code",
   "execution_count": 6,
   "id": "8b8f5d45",
   "metadata": {},
   "outputs": [],
   "source": [
    "def k_fold_cv(X_train, X_test, y_train, y_test, k_fold, no_vars, time_limit=60):\n",
    "    X_train = X_train.copy()\n",
    "    y_train = y_train.copy()\n",
    "    X_test = X_test.copy()\n",
    "    y_test = y_test.copy()\n",
    "    \n",
    "    # Set m = no. of variables in data\n",
    "    m = np.array(X_train).shape[1]\n",
    "    \n",
    "    # Randomly shuffle data\n",
    "    ind = np.random.choice(list(X_train.index),len(X_train),replace=False) \n",
    "    ind_shuffled = np.array_split(ind,k_fold)\n",
    "    \n",
    "    # Initialize arrays to store values of output\n",
    "    mse_kfold = []\n",
    "    betas_kfold=[]\n",
    "    val_kfold=[]\n",
    "    \n",
    "    # Iterate through all k-folds\n",
    "    for ind_kfold in ind_shuffled:\n",
    "        \n",
    "        X_kfold_val = X_train.iloc[ind_kfold,:]\n",
    "        y_kfold_val = y_train.iloc[ind_kfold]\n",
    "        X_kfold_train = X_train.drop(ind_kfold,axis=0)\n",
    "        y_kfold_train = y_train.drop(ind_kfold,axis=0)\n",
    "        \n",
    "        # Get betas\n",
    "        \n",
    "        betas, val = get_betas(X_kfold_train, y_kfold_train,k=no_vars,time_limit=time_limit)\n",
    "        betas_kfold.append(betas)\n",
    "        val_kfold.append(val)\n",
    "        \n",
    "        # Only need Intercept and beta values, not Zs\n",
    "        \n",
    "        betas = betas[:m+1]\n",
    "        \n",
    "        #Predict on test set using betas\n",
    "        y_pred = predict(betas, X_kfold_val)\n",
    "        \n",
    "        \n",
    "        # Get RMSE\n",
    "        mse = get_mse(y_kfold_val,y_pred)\n",
    "        mse_kfold.append(mse)\n",
    "        \n",
    "    # Get final MSE\n",
    "    \n",
    "    final_mse = np.mean(mse_kfold)\n",
    "    \n",
    "    return final_mse, mse_kfold, betas_kfold, val_kfold\n",
    "    "
   ]
  },
  {
   "cell_type": "markdown",
   "id": "58e5d7d7",
   "metadata": {},
   "source": [
    "# Run k-fold cross validation for all no. of variables -"
   ]
  },
  {
   "cell_type": "code",
   "execution_count": 7,
   "id": "33ffbc87",
   "metadata": {},
   "outputs": [],
   "source": [
    "### Split the data into train and test -\n",
    "\n",
    "# Predictors\n",
    "X_train = training_data.iloc[:,1:]\n",
    "X_test = test_data.iloc[:,1:]\n",
    "\n",
    "# Target Variable\n",
    "y_train = training_data.iloc[:,0]\n",
    "y_test = test_data.iloc[:,0]"
   ]
  },
  {
   "cell_type": "code",
   "execution_count": 28,
   "id": "224bc818",
   "metadata": {},
   "outputs": [
    {
     "name": "stdout",
     "output_type": "stream",
     "text": [
      "i =  5\n"
     ]
    },
    {
     "name": "stderr",
     "output_type": "stream",
     "text": [
      "C:\\Users\\Mihir\\AppData\\Local\\Temp\\ipykernel_34700\\2043476495.py:25: DeprecationWarning: Deprecated, use Model.addMConstr() instead\n",
      "  betas, val = get_betas(X_kfold_train, y_kfold_train,k=no_vars,time_limit=time_limit)\n",
      "C:\\Users\\Mihir\\AppData\\Local\\Temp\\ipykernel_34700\\2043476495.py:25: DeprecationWarning: Deprecated, use Model.addMConstr() instead\n",
      "  betas, val = get_betas(X_kfold_train, y_kfold_train,k=no_vars,time_limit=time_limit)\n",
      "C:\\Users\\Mihir\\AppData\\Local\\Temp\\ipykernel_34700\\2043476495.py:25: DeprecationWarning: Deprecated, use Model.addMConstr() instead\n",
      "  betas, val = get_betas(X_kfold_train, y_kfold_train,k=no_vars,time_limit=time_limit)\n",
      "C:\\Users\\Mihir\\AppData\\Local\\Temp\\ipykernel_34700\\2043476495.py:25: DeprecationWarning: Deprecated, use Model.addMConstr() instead\n",
      "  betas, val = get_betas(X_kfold_train, y_kfold_train,k=no_vars,time_limit=time_limit)\n",
      "C:\\Users\\Mihir\\AppData\\Local\\Temp\\ipykernel_34700\\2043476495.py:25: DeprecationWarning: Deprecated, use Model.addMConstr() instead\n",
      "  betas, val = get_betas(X_kfold_train, y_kfold_train,k=no_vars,time_limit=time_limit)\n",
      "C:\\Users\\Mihir\\AppData\\Local\\Temp\\ipykernel_34700\\2043476495.py:25: DeprecationWarning: Deprecated, use Model.addMConstr() instead\n",
      "  betas, val = get_betas(X_kfold_train, y_kfold_train,k=no_vars,time_limit=time_limit)\n",
      "C:\\Users\\Mihir\\AppData\\Local\\Temp\\ipykernel_34700\\2043476495.py:25: DeprecationWarning: Deprecated, use Model.addMConstr() instead\n",
      "  betas, val = get_betas(X_kfold_train, y_kfold_train,k=no_vars,time_limit=time_limit)\n",
      "C:\\Users\\Mihir\\AppData\\Local\\Temp\\ipykernel_34700\\2043476495.py:25: DeprecationWarning: Deprecated, use Model.addMConstr() instead\n",
      "  betas, val = get_betas(X_kfold_train, y_kfold_train,k=no_vars,time_limit=time_limit)\n",
      "C:\\Users\\Mihir\\AppData\\Local\\Temp\\ipykernel_34700\\2043476495.py:25: DeprecationWarning: Deprecated, use Model.addMConstr() instead\n",
      "  betas, val = get_betas(X_kfold_train, y_kfold_train,k=no_vars,time_limit=time_limit)\n",
      "C:\\Users\\Mihir\\AppData\\Local\\Temp\\ipykernel_34700\\2043476495.py:25: DeprecationWarning: Deprecated, use Model.addMConstr() instead\n",
      "  betas, val = get_betas(X_kfold_train, y_kfold_train,k=no_vars,time_limit=time_limit)\n"
     ]
    },
    {
     "name": "stdout",
     "output_type": "stream",
     "text": [
      "i =  10\n"
     ]
    },
    {
     "name": "stderr",
     "output_type": "stream",
     "text": [
      "C:\\Users\\Mihir\\AppData\\Local\\Temp\\ipykernel_34700\\2043476495.py:25: DeprecationWarning: Deprecated, use Model.addMConstr() instead\n",
      "  betas, val = get_betas(X_kfold_train, y_kfold_train,k=no_vars,time_limit=time_limit)\n",
      "C:\\Users\\Mihir\\AppData\\Local\\Temp\\ipykernel_34700\\2043476495.py:25: DeprecationWarning: Deprecated, use Model.addMConstr() instead\n",
      "  betas, val = get_betas(X_kfold_train, y_kfold_train,k=no_vars,time_limit=time_limit)\n",
      "C:\\Users\\Mihir\\AppData\\Local\\Temp\\ipykernel_34700\\2043476495.py:25: DeprecationWarning: Deprecated, use Model.addMConstr() instead\n",
      "  betas, val = get_betas(X_kfold_train, y_kfold_train,k=no_vars,time_limit=time_limit)\n",
      "C:\\Users\\Mihir\\AppData\\Local\\Temp\\ipykernel_34700\\2043476495.py:25: DeprecationWarning: Deprecated, use Model.addMConstr() instead\n",
      "  betas, val = get_betas(X_kfold_train, y_kfold_train,k=no_vars,time_limit=time_limit)\n",
      "C:\\Users\\Mihir\\AppData\\Local\\Temp\\ipykernel_34700\\2043476495.py:25: DeprecationWarning: Deprecated, use Model.addMConstr() instead\n",
      "  betas, val = get_betas(X_kfold_train, y_kfold_train,k=no_vars,time_limit=time_limit)\n",
      "C:\\Users\\Mihir\\AppData\\Local\\Temp\\ipykernel_34700\\2043476495.py:25: DeprecationWarning: Deprecated, use Model.addMConstr() instead\n",
      "  betas, val = get_betas(X_kfold_train, y_kfold_train,k=no_vars,time_limit=time_limit)\n",
      "C:\\Users\\Mihir\\AppData\\Local\\Temp\\ipykernel_34700\\2043476495.py:25: DeprecationWarning: Deprecated, use Model.addMConstr() instead\n",
      "  betas, val = get_betas(X_kfold_train, y_kfold_train,k=no_vars,time_limit=time_limit)\n",
      "C:\\Users\\Mihir\\AppData\\Local\\Temp\\ipykernel_34700\\2043476495.py:25: DeprecationWarning: Deprecated, use Model.addMConstr() instead\n",
      "  betas, val = get_betas(X_kfold_train, y_kfold_train,k=no_vars,time_limit=time_limit)\n",
      "C:\\Users\\Mihir\\AppData\\Local\\Temp\\ipykernel_34700\\2043476495.py:25: DeprecationWarning: Deprecated, use Model.addMConstr() instead\n",
      "  betas, val = get_betas(X_kfold_train, y_kfold_train,k=no_vars,time_limit=time_limit)\n",
      "C:\\Users\\Mihir\\AppData\\Local\\Temp\\ipykernel_34700\\2043476495.py:25: DeprecationWarning: Deprecated, use Model.addMConstr() instead\n",
      "  betas, val = get_betas(X_kfold_train, y_kfold_train,k=no_vars,time_limit=time_limit)\n"
     ]
    },
    {
     "name": "stdout",
     "output_type": "stream",
     "text": [
      "i =  15\n"
     ]
    },
    {
     "name": "stderr",
     "output_type": "stream",
     "text": [
      "C:\\Users\\Mihir\\AppData\\Local\\Temp\\ipykernel_34700\\2043476495.py:25: DeprecationWarning: Deprecated, use Model.addMConstr() instead\n",
      "  betas, val = get_betas(X_kfold_train, y_kfold_train,k=no_vars,time_limit=time_limit)\n",
      "C:\\Users\\Mihir\\AppData\\Local\\Temp\\ipykernel_34700\\2043476495.py:25: DeprecationWarning: Deprecated, use Model.addMConstr() instead\n",
      "  betas, val = get_betas(X_kfold_train, y_kfold_train,k=no_vars,time_limit=time_limit)\n",
      "C:\\Users\\Mihir\\AppData\\Local\\Temp\\ipykernel_34700\\2043476495.py:25: DeprecationWarning: Deprecated, use Model.addMConstr() instead\n",
      "  betas, val = get_betas(X_kfold_train, y_kfold_train,k=no_vars,time_limit=time_limit)\n",
      "C:\\Users\\Mihir\\AppData\\Local\\Temp\\ipykernel_34700\\2043476495.py:25: DeprecationWarning: Deprecated, use Model.addMConstr() instead\n",
      "  betas, val = get_betas(X_kfold_train, y_kfold_train,k=no_vars,time_limit=time_limit)\n",
      "C:\\Users\\Mihir\\AppData\\Local\\Temp\\ipykernel_34700\\2043476495.py:25: DeprecationWarning: Deprecated, use Model.addMConstr() instead\n",
      "  betas, val = get_betas(X_kfold_train, y_kfold_train,k=no_vars,time_limit=time_limit)\n",
      "C:\\Users\\Mihir\\AppData\\Local\\Temp\\ipykernel_34700\\2043476495.py:25: DeprecationWarning: Deprecated, use Model.addMConstr() instead\n",
      "  betas, val = get_betas(X_kfold_train, y_kfold_train,k=no_vars,time_limit=time_limit)\n",
      "C:\\Users\\Mihir\\AppData\\Local\\Temp\\ipykernel_34700\\2043476495.py:25: DeprecationWarning: Deprecated, use Model.addMConstr() instead\n",
      "  betas, val = get_betas(X_kfold_train, y_kfold_train,k=no_vars,time_limit=time_limit)\n",
      "C:\\Users\\Mihir\\AppData\\Local\\Temp\\ipykernel_34700\\2043476495.py:25: DeprecationWarning: Deprecated, use Model.addMConstr() instead\n",
      "  betas, val = get_betas(X_kfold_train, y_kfold_train,k=no_vars,time_limit=time_limit)\n",
      "C:\\Users\\Mihir\\AppData\\Local\\Temp\\ipykernel_34700\\2043476495.py:25: DeprecationWarning: Deprecated, use Model.addMConstr() instead\n",
      "  betas, val = get_betas(X_kfold_train, y_kfold_train,k=no_vars,time_limit=time_limit)\n",
      "C:\\Users\\Mihir\\AppData\\Local\\Temp\\ipykernel_34700\\2043476495.py:25: DeprecationWarning: Deprecated, use Model.addMConstr() instead\n",
      "  betas, val = get_betas(X_kfold_train, y_kfold_train,k=no_vars,time_limit=time_limit)\n"
     ]
    },
    {
     "name": "stdout",
     "output_type": "stream",
     "text": [
      "i =  20\n"
     ]
    },
    {
     "name": "stderr",
     "output_type": "stream",
     "text": [
      "C:\\Users\\Mihir\\AppData\\Local\\Temp\\ipykernel_34700\\2043476495.py:25: DeprecationWarning: Deprecated, use Model.addMConstr() instead\n",
      "  betas, val = get_betas(X_kfold_train, y_kfold_train,k=no_vars,time_limit=time_limit)\n",
      "C:\\Users\\Mihir\\AppData\\Local\\Temp\\ipykernel_34700\\2043476495.py:25: DeprecationWarning: Deprecated, use Model.addMConstr() instead\n",
      "  betas, val = get_betas(X_kfold_train, y_kfold_train,k=no_vars,time_limit=time_limit)\n",
      "C:\\Users\\Mihir\\AppData\\Local\\Temp\\ipykernel_34700\\2043476495.py:25: DeprecationWarning: Deprecated, use Model.addMConstr() instead\n",
      "  betas, val = get_betas(X_kfold_train, y_kfold_train,k=no_vars,time_limit=time_limit)\n",
      "C:\\Users\\Mihir\\AppData\\Local\\Temp\\ipykernel_34700\\2043476495.py:25: DeprecationWarning: Deprecated, use Model.addMConstr() instead\n",
      "  betas, val = get_betas(X_kfold_train, y_kfold_train,k=no_vars,time_limit=time_limit)\n",
      "C:\\Users\\Mihir\\AppData\\Local\\Temp\\ipykernel_34700\\2043476495.py:25: DeprecationWarning: Deprecated, use Model.addMConstr() instead\n",
      "  betas, val = get_betas(X_kfold_train, y_kfold_train,k=no_vars,time_limit=time_limit)\n",
      "C:\\Users\\Mihir\\AppData\\Local\\Temp\\ipykernel_34700\\2043476495.py:25: DeprecationWarning: Deprecated, use Model.addMConstr() instead\n",
      "  betas, val = get_betas(X_kfold_train, y_kfold_train,k=no_vars,time_limit=time_limit)\n",
      "C:\\Users\\Mihir\\AppData\\Local\\Temp\\ipykernel_34700\\2043476495.py:25: DeprecationWarning: Deprecated, use Model.addMConstr() instead\n",
      "  betas, val = get_betas(X_kfold_train, y_kfold_train,k=no_vars,time_limit=time_limit)\n",
      "C:\\Users\\Mihir\\AppData\\Local\\Temp\\ipykernel_34700\\2043476495.py:25: DeprecationWarning: Deprecated, use Model.addMConstr() instead\n",
      "  betas, val = get_betas(X_kfold_train, y_kfold_train,k=no_vars,time_limit=time_limit)\n",
      "C:\\Users\\Mihir\\AppData\\Local\\Temp\\ipykernel_34700\\2043476495.py:25: DeprecationWarning: Deprecated, use Model.addMConstr() instead\n",
      "  betas, val = get_betas(X_kfold_train, y_kfold_train,k=no_vars,time_limit=time_limit)\n",
      "C:\\Users\\Mihir\\AppData\\Local\\Temp\\ipykernel_34700\\2043476495.py:25: DeprecationWarning: Deprecated, use Model.addMConstr() instead\n",
      "  betas, val = get_betas(X_kfold_train, y_kfold_train,k=no_vars,time_limit=time_limit)\n"
     ]
    },
    {
     "name": "stdout",
     "output_type": "stream",
     "text": [
      "i =  25\n"
     ]
    },
    {
     "name": "stderr",
     "output_type": "stream",
     "text": [
      "C:\\Users\\Mihir\\AppData\\Local\\Temp\\ipykernel_34700\\2043476495.py:25: DeprecationWarning: Deprecated, use Model.addMConstr() instead\n",
      "  betas, val = get_betas(X_kfold_train, y_kfold_train,k=no_vars,time_limit=time_limit)\n",
      "C:\\Users\\Mihir\\AppData\\Local\\Temp\\ipykernel_34700\\2043476495.py:25: DeprecationWarning: Deprecated, use Model.addMConstr() instead\n",
      "  betas, val = get_betas(X_kfold_train, y_kfold_train,k=no_vars,time_limit=time_limit)\n",
      "C:\\Users\\Mihir\\AppData\\Local\\Temp\\ipykernel_34700\\2043476495.py:25: DeprecationWarning: Deprecated, use Model.addMConstr() instead\n",
      "  betas, val = get_betas(X_kfold_train, y_kfold_train,k=no_vars,time_limit=time_limit)\n",
      "C:\\Users\\Mihir\\AppData\\Local\\Temp\\ipykernel_34700\\2043476495.py:25: DeprecationWarning: Deprecated, use Model.addMConstr() instead\n",
      "  betas, val = get_betas(X_kfold_train, y_kfold_train,k=no_vars,time_limit=time_limit)\n",
      "C:\\Users\\Mihir\\AppData\\Local\\Temp\\ipykernel_34700\\2043476495.py:25: DeprecationWarning: Deprecated, use Model.addMConstr() instead\n",
      "  betas, val = get_betas(X_kfold_train, y_kfold_train,k=no_vars,time_limit=time_limit)\n",
      "C:\\Users\\Mihir\\AppData\\Local\\Temp\\ipykernel_34700\\2043476495.py:25: DeprecationWarning: Deprecated, use Model.addMConstr() instead\n",
      "  betas, val = get_betas(X_kfold_train, y_kfold_train,k=no_vars,time_limit=time_limit)\n",
      "C:\\Users\\Mihir\\AppData\\Local\\Temp\\ipykernel_34700\\2043476495.py:25: DeprecationWarning: Deprecated, use Model.addMConstr() instead\n",
      "  betas, val = get_betas(X_kfold_train, y_kfold_train,k=no_vars,time_limit=time_limit)\n",
      "C:\\Users\\Mihir\\AppData\\Local\\Temp\\ipykernel_34700\\2043476495.py:25: DeprecationWarning: Deprecated, use Model.addMConstr() instead\n",
      "  betas, val = get_betas(X_kfold_train, y_kfold_train,k=no_vars,time_limit=time_limit)\n",
      "C:\\Users\\Mihir\\AppData\\Local\\Temp\\ipykernel_34700\\2043476495.py:25: DeprecationWarning: Deprecated, use Model.addMConstr() instead\n",
      "  betas, val = get_betas(X_kfold_train, y_kfold_train,k=no_vars,time_limit=time_limit)\n",
      "C:\\Users\\Mihir\\AppData\\Local\\Temp\\ipykernel_34700\\2043476495.py:25: DeprecationWarning: Deprecated, use Model.addMConstr() instead\n",
      "  betas, val = get_betas(X_kfold_train, y_kfold_train,k=no_vars,time_limit=time_limit)\n"
     ]
    },
    {
     "name": "stdout",
     "output_type": "stream",
     "text": [
      "i =  30\n"
     ]
    },
    {
     "name": "stderr",
     "output_type": "stream",
     "text": [
      "C:\\Users\\Mihir\\AppData\\Local\\Temp\\ipykernel_34700\\2043476495.py:25: DeprecationWarning: Deprecated, use Model.addMConstr() instead\n",
      "  betas, val = get_betas(X_kfold_train, y_kfold_train,k=no_vars,time_limit=time_limit)\n",
      "C:\\Users\\Mihir\\AppData\\Local\\Temp\\ipykernel_34700\\2043476495.py:25: DeprecationWarning: Deprecated, use Model.addMConstr() instead\n",
      "  betas, val = get_betas(X_kfold_train, y_kfold_train,k=no_vars,time_limit=time_limit)\n",
      "C:\\Users\\Mihir\\AppData\\Local\\Temp\\ipykernel_34700\\2043476495.py:25: DeprecationWarning: Deprecated, use Model.addMConstr() instead\n",
      "  betas, val = get_betas(X_kfold_train, y_kfold_train,k=no_vars,time_limit=time_limit)\n",
      "C:\\Users\\Mihir\\AppData\\Local\\Temp\\ipykernel_34700\\2043476495.py:25: DeprecationWarning: Deprecated, use Model.addMConstr() instead\n",
      "  betas, val = get_betas(X_kfold_train, y_kfold_train,k=no_vars,time_limit=time_limit)\n",
      "C:\\Users\\Mihir\\AppData\\Local\\Temp\\ipykernel_34700\\2043476495.py:25: DeprecationWarning: Deprecated, use Model.addMConstr() instead\n",
      "  betas, val = get_betas(X_kfold_train, y_kfold_train,k=no_vars,time_limit=time_limit)\n",
      "C:\\Users\\Mihir\\AppData\\Local\\Temp\\ipykernel_34700\\2043476495.py:25: DeprecationWarning: Deprecated, use Model.addMConstr() instead\n",
      "  betas, val = get_betas(X_kfold_train, y_kfold_train,k=no_vars,time_limit=time_limit)\n",
      "C:\\Users\\Mihir\\AppData\\Local\\Temp\\ipykernel_34700\\2043476495.py:25: DeprecationWarning: Deprecated, use Model.addMConstr() instead\n",
      "  betas, val = get_betas(X_kfold_train, y_kfold_train,k=no_vars,time_limit=time_limit)\n",
      "C:\\Users\\Mihir\\AppData\\Local\\Temp\\ipykernel_34700\\2043476495.py:25: DeprecationWarning: Deprecated, use Model.addMConstr() instead\n",
      "  betas, val = get_betas(X_kfold_train, y_kfold_train,k=no_vars,time_limit=time_limit)\n",
      "C:\\Users\\Mihir\\AppData\\Local\\Temp\\ipykernel_34700\\2043476495.py:25: DeprecationWarning: Deprecated, use Model.addMConstr() instead\n",
      "  betas, val = get_betas(X_kfold_train, y_kfold_train,k=no_vars,time_limit=time_limit)\n",
      "C:\\Users\\Mihir\\AppData\\Local\\Temp\\ipykernel_34700\\2043476495.py:25: DeprecationWarning: Deprecated, use Model.addMConstr() instead\n",
      "  betas, val = get_betas(X_kfold_train, y_kfold_train,k=no_vars,time_limit=time_limit)\n"
     ]
    },
    {
     "name": "stdout",
     "output_type": "stream",
     "text": [
      "i =  35\n"
     ]
    },
    {
     "name": "stderr",
     "output_type": "stream",
     "text": [
      "C:\\Users\\Mihir\\AppData\\Local\\Temp\\ipykernel_34700\\2043476495.py:25: DeprecationWarning: Deprecated, use Model.addMConstr() instead\n",
      "  betas, val = get_betas(X_kfold_train, y_kfold_train,k=no_vars,time_limit=time_limit)\n",
      "C:\\Users\\Mihir\\AppData\\Local\\Temp\\ipykernel_34700\\2043476495.py:25: DeprecationWarning: Deprecated, use Model.addMConstr() instead\n",
      "  betas, val = get_betas(X_kfold_train, y_kfold_train,k=no_vars,time_limit=time_limit)\n",
      "C:\\Users\\Mihir\\AppData\\Local\\Temp\\ipykernel_34700\\2043476495.py:25: DeprecationWarning: Deprecated, use Model.addMConstr() instead\n",
      "  betas, val = get_betas(X_kfold_train, y_kfold_train,k=no_vars,time_limit=time_limit)\n",
      "C:\\Users\\Mihir\\AppData\\Local\\Temp\\ipykernel_34700\\2043476495.py:25: DeprecationWarning: Deprecated, use Model.addMConstr() instead\n",
      "  betas, val = get_betas(X_kfold_train, y_kfold_train,k=no_vars,time_limit=time_limit)\n",
      "C:\\Users\\Mihir\\AppData\\Local\\Temp\\ipykernel_34700\\2043476495.py:25: DeprecationWarning: Deprecated, use Model.addMConstr() instead\n",
      "  betas, val = get_betas(X_kfold_train, y_kfold_train,k=no_vars,time_limit=time_limit)\n",
      "C:\\Users\\Mihir\\AppData\\Local\\Temp\\ipykernel_34700\\2043476495.py:25: DeprecationWarning: Deprecated, use Model.addMConstr() instead\n",
      "  betas, val = get_betas(X_kfold_train, y_kfold_train,k=no_vars,time_limit=time_limit)\n",
      "C:\\Users\\Mihir\\AppData\\Local\\Temp\\ipykernel_34700\\2043476495.py:25: DeprecationWarning: Deprecated, use Model.addMConstr() instead\n",
      "  betas, val = get_betas(X_kfold_train, y_kfold_train,k=no_vars,time_limit=time_limit)\n",
      "C:\\Users\\Mihir\\AppData\\Local\\Temp\\ipykernel_34700\\2043476495.py:25: DeprecationWarning: Deprecated, use Model.addMConstr() instead\n",
      "  betas, val = get_betas(X_kfold_train, y_kfold_train,k=no_vars,time_limit=time_limit)\n",
      "C:\\Users\\Mihir\\AppData\\Local\\Temp\\ipykernel_34700\\2043476495.py:25: DeprecationWarning: Deprecated, use Model.addMConstr() instead\n",
      "  betas, val = get_betas(X_kfold_train, y_kfold_train,k=no_vars,time_limit=time_limit)\n",
      "C:\\Users\\Mihir\\AppData\\Local\\Temp\\ipykernel_34700\\2043476495.py:25: DeprecationWarning: Deprecated, use Model.addMConstr() instead\n",
      "  betas, val = get_betas(X_kfold_train, y_kfold_train,k=no_vars,time_limit=time_limit)\n"
     ]
    },
    {
     "name": "stdout",
     "output_type": "stream",
     "text": [
      "i =  40\n"
     ]
    },
    {
     "name": "stderr",
     "output_type": "stream",
     "text": [
      "C:\\Users\\Mihir\\AppData\\Local\\Temp\\ipykernel_34700\\2043476495.py:25: DeprecationWarning: Deprecated, use Model.addMConstr() instead\n",
      "  betas, val = get_betas(X_kfold_train, y_kfold_train,k=no_vars,time_limit=time_limit)\n",
      "C:\\Users\\Mihir\\AppData\\Local\\Temp\\ipykernel_34700\\2043476495.py:25: DeprecationWarning: Deprecated, use Model.addMConstr() instead\n",
      "  betas, val = get_betas(X_kfold_train, y_kfold_train,k=no_vars,time_limit=time_limit)\n",
      "C:\\Users\\Mihir\\AppData\\Local\\Temp\\ipykernel_34700\\2043476495.py:25: DeprecationWarning: Deprecated, use Model.addMConstr() instead\n",
      "  betas, val = get_betas(X_kfold_train, y_kfold_train,k=no_vars,time_limit=time_limit)\n",
      "C:\\Users\\Mihir\\AppData\\Local\\Temp\\ipykernel_34700\\2043476495.py:25: DeprecationWarning: Deprecated, use Model.addMConstr() instead\n",
      "  betas, val = get_betas(X_kfold_train, y_kfold_train,k=no_vars,time_limit=time_limit)\n",
      "C:\\Users\\Mihir\\AppData\\Local\\Temp\\ipykernel_34700\\2043476495.py:25: DeprecationWarning: Deprecated, use Model.addMConstr() instead\n",
      "  betas, val = get_betas(X_kfold_train, y_kfold_train,k=no_vars,time_limit=time_limit)\n",
      "C:\\Users\\Mihir\\AppData\\Local\\Temp\\ipykernel_34700\\2043476495.py:25: DeprecationWarning: Deprecated, use Model.addMConstr() instead\n",
      "  betas, val = get_betas(X_kfold_train, y_kfold_train,k=no_vars,time_limit=time_limit)\n",
      "C:\\Users\\Mihir\\AppData\\Local\\Temp\\ipykernel_34700\\2043476495.py:25: DeprecationWarning: Deprecated, use Model.addMConstr() instead\n",
      "  betas, val = get_betas(X_kfold_train, y_kfold_train,k=no_vars,time_limit=time_limit)\n",
      "C:\\Users\\Mihir\\AppData\\Local\\Temp\\ipykernel_34700\\2043476495.py:25: DeprecationWarning: Deprecated, use Model.addMConstr() instead\n",
      "  betas, val = get_betas(X_kfold_train, y_kfold_train,k=no_vars,time_limit=time_limit)\n",
      "C:\\Users\\Mihir\\AppData\\Local\\Temp\\ipykernel_34700\\2043476495.py:25: DeprecationWarning: Deprecated, use Model.addMConstr() instead\n",
      "  betas, val = get_betas(X_kfold_train, y_kfold_train,k=no_vars,time_limit=time_limit)\n",
      "C:\\Users\\Mihir\\AppData\\Local\\Temp\\ipykernel_34700\\2043476495.py:25: DeprecationWarning: Deprecated, use Model.addMConstr() instead\n",
      "  betas, val = get_betas(X_kfold_train, y_kfold_train,k=no_vars,time_limit=time_limit)\n",
      "C:\\Users\\Mihir\\AppData\\Local\\Temp\\ipykernel_34700\\2043476495.py:25: DeprecationWarning: Deprecated, use Model.addMConstr() instead\n",
      "  betas, val = get_betas(X_kfold_train, y_kfold_train,k=no_vars,time_limit=time_limit)\n",
      "C:\\Users\\Mihir\\AppData\\Local\\Temp\\ipykernel_34700\\2043476495.py:25: DeprecationWarning: Deprecated, use Model.addMConstr() instead\n",
      "  betas, val = get_betas(X_kfold_train, y_kfold_train,k=no_vars,time_limit=time_limit)\n"
     ]
    },
    {
     "name": "stdout",
     "output_type": "stream",
     "text": [
      "i =  45\n"
     ]
    },
    {
     "name": "stderr",
     "output_type": "stream",
     "text": [
      "C:\\Users\\Mihir\\AppData\\Local\\Temp\\ipykernel_34700\\2043476495.py:25: DeprecationWarning: Deprecated, use Model.addMConstr() instead\n",
      "  betas, val = get_betas(X_kfold_train, y_kfold_train,k=no_vars,time_limit=time_limit)\n",
      "C:\\Users\\Mihir\\AppData\\Local\\Temp\\ipykernel_34700\\2043476495.py:25: DeprecationWarning: Deprecated, use Model.addMConstr() instead\n",
      "  betas, val = get_betas(X_kfold_train, y_kfold_train,k=no_vars,time_limit=time_limit)\n",
      "C:\\Users\\Mihir\\AppData\\Local\\Temp\\ipykernel_34700\\2043476495.py:25: DeprecationWarning: Deprecated, use Model.addMConstr() instead\n",
      "  betas, val = get_betas(X_kfold_train, y_kfold_train,k=no_vars,time_limit=time_limit)\n",
      "C:\\Users\\Mihir\\AppData\\Local\\Temp\\ipykernel_34700\\2043476495.py:25: DeprecationWarning: Deprecated, use Model.addMConstr() instead\n",
      "  betas, val = get_betas(X_kfold_train, y_kfold_train,k=no_vars,time_limit=time_limit)\n",
      "C:\\Users\\Mihir\\AppData\\Local\\Temp\\ipykernel_34700\\2043476495.py:25: DeprecationWarning: Deprecated, use Model.addMConstr() instead\n",
      "  betas, val = get_betas(X_kfold_train, y_kfold_train,k=no_vars,time_limit=time_limit)\n",
      "C:\\Users\\Mihir\\AppData\\Local\\Temp\\ipykernel_34700\\2043476495.py:25: DeprecationWarning: Deprecated, use Model.addMConstr() instead\n",
      "  betas, val = get_betas(X_kfold_train, y_kfold_train,k=no_vars,time_limit=time_limit)\n",
      "C:\\Users\\Mihir\\AppData\\Local\\Temp\\ipykernel_34700\\2043476495.py:25: DeprecationWarning: Deprecated, use Model.addMConstr() instead\n",
      "  betas, val = get_betas(X_kfold_train, y_kfold_train,k=no_vars,time_limit=time_limit)\n",
      "C:\\Users\\Mihir\\AppData\\Local\\Temp\\ipykernel_34700\\2043476495.py:25: DeprecationWarning: Deprecated, use Model.addMConstr() instead\n",
      "  betas, val = get_betas(X_kfold_train, y_kfold_train,k=no_vars,time_limit=time_limit)\n"
     ]
    },
    {
     "name": "stdout",
     "output_type": "stream",
     "text": [
      "i =  50\n"
     ]
    },
    {
     "name": "stderr",
     "output_type": "stream",
     "text": [
      "C:\\Users\\Mihir\\AppData\\Local\\Temp\\ipykernel_34700\\2043476495.py:25: DeprecationWarning: Deprecated, use Model.addMConstr() instead\n",
      "  betas, val = get_betas(X_kfold_train, y_kfold_train,k=no_vars,time_limit=time_limit)\n",
      "C:\\Users\\Mihir\\AppData\\Local\\Temp\\ipykernel_34700\\2043476495.py:25: DeprecationWarning: Deprecated, use Model.addMConstr() instead\n",
      "  betas, val = get_betas(X_kfold_train, y_kfold_train,k=no_vars,time_limit=time_limit)\n",
      "C:\\Users\\Mihir\\AppData\\Local\\Temp\\ipykernel_34700\\2043476495.py:25: DeprecationWarning: Deprecated, use Model.addMConstr() instead\n",
      "  betas, val = get_betas(X_kfold_train, y_kfold_train,k=no_vars,time_limit=time_limit)\n",
      "C:\\Users\\Mihir\\AppData\\Local\\Temp\\ipykernel_34700\\2043476495.py:25: DeprecationWarning: Deprecated, use Model.addMConstr() instead\n",
      "  betas, val = get_betas(X_kfold_train, y_kfold_train,k=no_vars,time_limit=time_limit)\n",
      "C:\\Users\\Mihir\\AppData\\Local\\Temp\\ipykernel_34700\\2043476495.py:25: DeprecationWarning: Deprecated, use Model.addMConstr() instead\n",
      "  betas, val = get_betas(X_kfold_train, y_kfold_train,k=no_vars,time_limit=time_limit)\n",
      "C:\\Users\\Mihir\\AppData\\Local\\Temp\\ipykernel_34700\\2043476495.py:25: DeprecationWarning: Deprecated, use Model.addMConstr() instead\n",
      "  betas, val = get_betas(X_kfold_train, y_kfold_train,k=no_vars,time_limit=time_limit)\n",
      "C:\\Users\\Mihir\\AppData\\Local\\Temp\\ipykernel_34700\\2043476495.py:25: DeprecationWarning: Deprecated, use Model.addMConstr() instead\n",
      "  betas, val = get_betas(X_kfold_train, y_kfold_train,k=no_vars,time_limit=time_limit)\n",
      "C:\\Users\\Mihir\\AppData\\Local\\Temp\\ipykernel_34700\\2043476495.py:25: DeprecationWarning: Deprecated, use Model.addMConstr() instead\n",
      "  betas, val = get_betas(X_kfold_train, y_kfold_train,k=no_vars,time_limit=time_limit)\n",
      "C:\\Users\\Mihir\\AppData\\Local\\Temp\\ipykernel_34700\\2043476495.py:25: DeprecationWarning: Deprecated, use Model.addMConstr() instead\n",
      "  betas, val = get_betas(X_kfold_train, y_kfold_train,k=no_vars,time_limit=time_limit)\n",
      "C:\\Users\\Mihir\\AppData\\Local\\Temp\\ipykernel_34700\\2043476495.py:25: DeprecationWarning: Deprecated, use Model.addMConstr() instead\n",
      "  betas, val = get_betas(X_kfold_train, y_kfold_train,k=no_vars,time_limit=time_limit)\n"
     ]
    }
   ],
   "source": [
    "fin_mse_arr = []\n",
    "mse_arr = []\n",
    "betas_arr = []\n",
    "val_arr = []\n",
    "\n",
    "mse=[]\n",
    "for i in np.array(var_to_test):\n",
    "    print(\"i = \",i)\n",
    "    fin_mse, mse_f, betas_k, val_k = k_fold_cv(X_train,X_test, y_train, y_test, k_fold=k, no_vars=i, time_limit=time_limit)\n",
    "    mse_arr.append(mse_f)\n",
    "    fin_mse_arr.append(fin_mse)\n",
    "    betas_arr.append(betas_k)\n",
    "    val_arr.append(val_k)"
   ]
  },
  {
   "cell_type": "code",
   "execution_count": 76,
   "id": "8fe91f4f",
   "metadata": {},
   "outputs": [
    {
     "data": {
      "text/html": [
       "<div>\n",
       "<style scoped>\n",
       "    .dataframe tbody tr th:only-of-type {\n",
       "        vertical-align: middle;\n",
       "    }\n",
       "\n",
       "    .dataframe tbody tr th {\n",
       "        vertical-align: top;\n",
       "    }\n",
       "\n",
       "    .dataframe thead th {\n",
       "        text-align: right;\n",
       "    }\n",
       "</style>\n",
       "<table border=\"1\" class=\"dataframe\">\n",
       "  <thead>\n",
       "    <tr style=\"text-align: right;\">\n",
       "      <th></th>\n",
       "      <th>MSE</th>\n",
       "      <th>No. of Variables</th>\n",
       "    </tr>\n",
       "  </thead>\n",
       "  <tbody>\n",
       "    <tr>\n",
       "      <th>0</th>\n",
       "      <td>3.679512</td>\n",
       "      <td>5</td>\n",
       "    </tr>\n",
       "    <tr>\n",
       "      <th>1</th>\n",
       "      <td>2.958498</td>\n",
       "      <td>10</td>\n",
       "    </tr>\n",
       "    <tr>\n",
       "      <th>2</th>\n",
       "      <td>3.173731</td>\n",
       "      <td>15</td>\n",
       "    </tr>\n",
       "    <tr>\n",
       "      <th>3</th>\n",
       "      <td>3.124743</td>\n",
       "      <td>20</td>\n",
       "    </tr>\n",
       "    <tr>\n",
       "      <th>4</th>\n",
       "      <td>3.103878</td>\n",
       "      <td>25</td>\n",
       "    </tr>\n",
       "    <tr>\n",
       "      <th>5</th>\n",
       "      <td>3.468592</td>\n",
       "      <td>30</td>\n",
       "    </tr>\n",
       "    <tr>\n",
       "      <th>6</th>\n",
       "      <td>3.505869</td>\n",
       "      <td>35</td>\n",
       "    </tr>\n",
       "    <tr>\n",
       "      <th>7</th>\n",
       "      <td>3.418577</td>\n",
       "      <td>40</td>\n",
       "    </tr>\n",
       "    <tr>\n",
       "      <th>8</th>\n",
       "      <td>3.483805</td>\n",
       "      <td>45</td>\n",
       "    </tr>\n",
       "    <tr>\n",
       "      <th>9</th>\n",
       "      <td>3.371867</td>\n",
       "      <td>50</td>\n",
       "    </tr>\n",
       "  </tbody>\n",
       "</table>\n",
       "</div>"
      ],
      "text/plain": [
       "        MSE  No. of Variables\n",
       "0  3.679512                 5\n",
       "1  2.958498                10\n",
       "2  3.173731                15\n",
       "3  3.124743                20\n",
       "4  3.103878                25\n",
       "5  3.468592                30\n",
       "6  3.505869                35\n",
       "7  3.418577                40\n",
       "8  3.483805                45\n",
       "9  3.371867                50"
      ]
     },
     "execution_count": 76,
     "metadata": {},
     "output_type": "execute_result"
    }
   ],
   "source": [
    "# Final MSEs\n",
    "\n",
    "# CReate Dataframe with values\n",
    "mse_df = pd.DataFrame()\n",
    "\n",
    "mse_df['MSE'] = fin_mse_arr\n",
    "mse_df['No. of Variables'] = list(var_to_test)\n",
    "\n",
    "# Show dataframe with MSE values\n",
    "mse_df"
   ]
  },
  {
   "cell_type": "code",
   "execution_count": 77,
   "id": "3e62ea6d",
   "metadata": {},
   "outputs": [
    {
     "data": {
      "text/html": [
       "<div>\n",
       "<style scoped>\n",
       "    .dataframe tbody tr th:only-of-type {\n",
       "        vertical-align: middle;\n",
       "    }\n",
       "\n",
       "    .dataframe tbody tr th {\n",
       "        vertical-align: top;\n",
       "    }\n",
       "\n",
       "    .dataframe thead th {\n",
       "        text-align: right;\n",
       "    }\n",
       "</style>\n",
       "<table border=\"1\" class=\"dataframe\">\n",
       "  <thead>\n",
       "    <tr style=\"text-align: right;\">\n",
       "      <th></th>\n",
       "      <th>MSE</th>\n",
       "      <th>No. of Variables</th>\n",
       "    </tr>\n",
       "  </thead>\n",
       "  <tbody>\n",
       "    <tr>\n",
       "      <th>1</th>\n",
       "      <td>2.958498</td>\n",
       "      <td>10</td>\n",
       "    </tr>\n",
       "    <tr>\n",
       "      <th>4</th>\n",
       "      <td>3.103878</td>\n",
       "      <td>25</td>\n",
       "    </tr>\n",
       "    <tr>\n",
       "      <th>3</th>\n",
       "      <td>3.124743</td>\n",
       "      <td>20</td>\n",
       "    </tr>\n",
       "    <tr>\n",
       "      <th>2</th>\n",
       "      <td>3.173731</td>\n",
       "      <td>15</td>\n",
       "    </tr>\n",
       "    <tr>\n",
       "      <th>9</th>\n",
       "      <td>3.371867</td>\n",
       "      <td>50</td>\n",
       "    </tr>\n",
       "    <tr>\n",
       "      <th>7</th>\n",
       "      <td>3.418577</td>\n",
       "      <td>40</td>\n",
       "    </tr>\n",
       "    <tr>\n",
       "      <th>5</th>\n",
       "      <td>3.468592</td>\n",
       "      <td>30</td>\n",
       "    </tr>\n",
       "    <tr>\n",
       "      <th>8</th>\n",
       "      <td>3.483805</td>\n",
       "      <td>45</td>\n",
       "    </tr>\n",
       "    <tr>\n",
       "      <th>6</th>\n",
       "      <td>3.505869</td>\n",
       "      <td>35</td>\n",
       "    </tr>\n",
       "    <tr>\n",
       "      <th>0</th>\n",
       "      <td>3.679512</td>\n",
       "      <td>5</td>\n",
       "    </tr>\n",
       "  </tbody>\n",
       "</table>\n",
       "</div>"
      ],
      "text/plain": [
       "        MSE  No. of Variables\n",
       "1  2.958498                10\n",
       "4  3.103878                25\n",
       "3  3.124743                20\n",
       "2  3.173731                15\n",
       "9  3.371867                50\n",
       "7  3.418577                40\n",
       "5  3.468592                30\n",
       "8  3.483805                45\n",
       "6  3.505869                35\n",
       "0  3.679512                 5"
      ]
     },
     "execution_count": 77,
     "metadata": {},
     "output_type": "execute_result"
    }
   ],
   "source": [
    "# Select the value of no. of vars with lowest MSE in kfold cv -\n",
    "ideal_vars = mse_df.sort_values(by=\"MSE\").iloc[0,1]\n",
    "\n",
    "# Looking at the overall table -\n",
    "mse_df.sort_values(by=\"MSE\")"
   ]
  },
  {
   "cell_type": "code",
   "execution_count": 47,
   "id": "c0ebe462",
   "metadata": {},
   "outputs": [
    {
     "data": {
      "image/png": "[encoded data removed]",
      "text/plain": [
       "<Figure size 720x360 with 1 Axes>"
      ]
     },
     "metadata": {
      "needs_background": "light"
     },
     "output_type": "display_data"
    }
   ],
   "source": [
    "# plot \n",
    "import matplotlib.pyplot as plt\n",
    "fig = plt.figure(figsize = (10, 5))\n",
    " \n",
    "# creating the bar plot\n",
    "plt.bar(mse_df['No. of Variables'], mse_df['MSE'],\n",
    "        width = 1)\n",
    " \n",
    "plt.xlabel(\"No. of Variables selected\")\n",
    "plt.ylabel(\"Mean Square Error\")\n",
    "plt.title(\"Mean Square Error using {}-fold cross validation for different no. of variables\".format(k))\n",
    "plt.show()\n"
   ]
  },
  {
   "cell_type": "markdown",
   "id": "a627f377",
   "metadata": {},
   "source": [
    "## Let's train model using ideal no. of variables on entire training data"
   ]
  },
  {
   "cell_type": "code",
   "execution_count": 9,
   "id": "cb4a65f6",
   "metadata": {},
   "outputs": [
    {
     "name": "stdout",
     "output_type": "stream",
     "text": [
      "Set parameter Username\n",
      "Academic license - for non-commercial use only - expires 2023-08-17\n"
     ]
    },
    {
     "name": "stderr",
     "output_type": "stream",
     "text": [
      "/var/folders/8w/snj_8lln2bz87z87f46_k0t00000gn/T/ipykernel_26897/346389382.py:3: DeprecationWarning: Deprecated, use Model.addMConstr() instead\n",
      "  betas, val = get_betas(X_train, y_train,k=ideal_vars,time_limit=time_limit)\n"
     ]
    },
    {
     "name": "stdout",
     "output_type": "stream",
     "text": [
      "A:  [[  0.   1.   0. ...   0.   0.   0.]\n",
      " [  0.   0.   1. ...   0.   0.   0.]\n",
      " [  0.   0.   0. ...   0.   0.   0.]\n",
      " ...\n",
      " [  0.   0.   0. ...   0. 100.   0.]\n",
      " [  0.   0.   0. ...   0.   0. 100.]\n",
      " [  0.   0.   0. ...   1.   1.   1.]]\n",
      "b:  [ 0  0  0  0  0  0  0  0  0  0  0  0  0  0  0  0  0  0  0  0  0  0  0  0\n",
      "  0  0  0  0  0  0  0  0  0  0  0  0  0  0  0  0  0  0  0  0  0  0  0  0\n",
      "  0  0  0  0  0  0  0  0  0  0  0  0  0  0  0  0  0  0  0  0  0  0  0  0\n",
      "  0  0  0  0  0  0  0  0  0  0  0  0  0  0  0  0  0  0  0  0  0  0  0  0\n",
      "  0  0  0  0 10]\n",
      "Test MSE:  2.3365439645525274\n"
     ]
    }
   ],
   "source": [
    "ideal_vars=10\n",
    "# Get betas for entire training set based on ideal no. of variables -\n",
    "betas, val = get_betas(X_train, y_train,k=ideal_vars,time_limit=time_limit)\n",
    "# Only select first (m+1) entries i.e only beta values and not Z values\n",
    "m = X_train.shape[1]\n",
    "betas_test = betas[:(m+1)]\n",
    "\n",
    "# Predict on Test Set -\n",
    "y_pred = predict(betas_test, X_test)\n",
    "\n",
    "# What's the MSE on test set?\n",
    "\n",
    "mse_test = get_mse(y_test, y_pred)\n",
    "\n",
    "print(\"Test MSE: \", mse_test)"
   ]
  },
  {
   "cell_type": "code",
   "execution_count": 10,
   "id": "d00f55a1",
   "metadata": {},
   "outputs": [
    {
     "data": {
      "text/plain": [
       "array([ 0.97252408,  0.        ,  0.        ,  0.        ,  0.        ,\n",
       "        0.        ,  0.        ,  0.        ,  0.        , -2.30820726,\n",
       "        0.        ,  0.        ,  0.        ,  0.        ,  0.        ,\n",
       "       -0.51832612, -0.20416201,  0.        ,  0.        ,  0.        ,\n",
       "        0.        ,  0.        ,  0.        , -1.55914318,  0.86697336,\n",
       "        0.        , -1.31191942,  0.        ,  0.        ,  0.        ,\n",
       "        0.        ,  0.        ,  0.        ,  0.        ,  0.4081653 ,\n",
       "        0.        ,  0.        ,  0.        ,  0.        ,  0.        ,\n",
       "        0.        ,  0.        ,  0.        ,  0.        ,  0.        ,\n",
       "        1.78147489,  0.        ,  0.88738292, -0.28229213,  0.        ,\n",
       "        0.        ])"
      ]
     },
     "execution_count": 10,
     "metadata": {},
     "output_type": "execute_result"
    }
   ],
   "source": [
    "# Let's also look at the beta co-efficients\n",
    "betas_test"
   ]
  },
  {
   "cell_type": "markdown",
   "id": "72c808f7",
   "metadata": {},
   "source": [
    "# Let's use Lasso with Cross Validation to look at a different way of variable selection -"
   ]
  },
  {
   "cell_type": "code",
   "execution_count": 11,
   "id": "b6cebb71",
   "metadata": {},
   "outputs": [
    {
     "name": "stderr",
     "output_type": "stream",
     "text": [
      "/Users/pratikgawli/opt/anaconda3/lib/python3.9/site-packages/sklearn/linear_model/_base.py:141: FutureWarning: 'normalize' was deprecated in version 1.0 and will be removed in 1.2.\n",
      "If you wish to scale the data, use Pipeline with a StandardScaler in a preprocessing stage. To reproduce the previous behavior:\n",
      "\n",
      "from sklearn.pipeline import make_pipeline\n",
      "\n",
      "model = make_pipeline(StandardScaler(with_mean=False), Lasso())\n",
      "\n",
      "If you wish to pass a sample_weight parameter, you need to pass it as a fit parameter to each step of the pipeline as follows:\n",
      "\n",
      "kwargs = {s[0] + '__sample_weight': sample_weight for s in model.steps}\n",
      "model.fit(X, y, **kwargs)\n",
      "\n",
      "Set parameter alpha to: original_alpha * np.sqrt(n_samples). \n",
      "  warnings.warn(\n"
     ]
    },
    {
     "data": {
      "text/html": [
       "<style>#sk-container-id-1 {color: black;background-color: white;}#sk-container-id-1 pre{padding: 0;}#sk-container-id-1 div.sk-toggleable {background-color: white;}#sk-container-id-1 label.sk-toggleable__label {cursor: pointer;display: block;width: 100%;margin-bottom: 0;padding: 0.3em;box-sizing: border-box;text-align: center;}#sk-container-id-1 label.sk-toggleable__label-arrow:before {content: \"▸\";float: left;margin-right: 0.25em;color: #696969;}#sk-container-id-1 label.sk-toggleable__label-arrow:hover:before {color: black;}#sk-container-id-1 div.sk-estimator:hover label.sk-toggleable__label-arrow:before {color: black;}#sk-container-id-1 div.sk-toggleable__content {max-height: 0;max-width: 0;overflow: hidden;text-align: left;background-color: #f0f8ff;}#sk-container-id-1 div.sk-toggleable__content pre {margin: 0.2em;color: black;border-radius: 0.25em;background-color: #f0f8ff;}#sk-container-id-1 input.sk-toggleable__control:checked~div.sk-toggleable__content {max-height: 200px;max-width: 100%;overflow: auto;}#sk-container-id-1 input.sk-toggleable__control:checked~label.sk-toggleable__label-arrow:before {content: \"▾\";}#sk-container-id-1 div.sk-estimator input.sk-toggleable__control:checked~label.sk-toggleable__label {background-color: #d4ebff;}#sk-container-id-1 div.sk-label input.sk-toggleable__control:checked~label.sk-toggleable__label {background-color: #d4ebff;}#sk-container-id-1 input.sk-hidden--visually {border: 0;clip: rect(1px 1px 1px 1px);clip: rect(1px, 1px, 1px, 1px);height: 1px;margin: -1px;overflow: hidden;padding: 0;position: absolute;width: 1px;}#sk-container-id-1 div.sk-estimator {font-family: monospace;background-color: #f0f8ff;border: 1px dotted black;border-radius: 0.25em;box-sizing: border-box;margin-bottom: 0.5em;}#sk-container-id-1 div.sk-estimator:hover {background-color: #d4ebff;}#sk-container-id-1 div.sk-parallel-item::after {content: \"\";width: 100%;border-bottom: 1px solid gray;flex-grow: 1;}#sk-container-id-1 div.sk-label:hover label.sk-toggleable__label {background-color: #d4ebff;}#sk-container-id-1 div.sk-serial::before {content: \"\";position: absolute;border-left: 1px solid gray;box-sizing: border-box;top: 0;bottom: 0;left: 50%;z-index: 0;}#sk-container-id-1 div.sk-serial {display: flex;flex-direction: column;align-items: center;background-color: white;padding-right: 0.2em;padding-left: 0.2em;position: relative;}#sk-container-id-1 div.sk-item {position: relative;z-index: 1;}#sk-container-id-1 div.sk-parallel {display: flex;align-items: stretch;justify-content: center;background-color: white;position: relative;}#sk-container-id-1 div.sk-item::before, #sk-container-id-1 div.sk-parallel-item::before {content: \"\";position: absolute;border-left: 1px solid gray;box-sizing: border-box;top: 0;bottom: 0;left: 50%;z-index: -1;}#sk-container-id-1 div.sk-parallel-item {display: flex;flex-direction: column;z-index: 1;position: relative;background-color: white;}#sk-container-id-1 div.sk-parallel-item:first-child::after {align-self: flex-end;width: 50%;}#sk-container-id-1 div.sk-parallel-item:last-child::after {align-self: flex-start;width: 50%;}#sk-container-id-1 div.sk-parallel-item:only-child::after {width: 0;}#sk-container-id-1 div.sk-dashed-wrapped {border: 1px dashed gray;margin: 0 0.4em 0.5em 0.4em;box-sizing: border-box;padding-bottom: 0.4em;background-color: white;}#sk-container-id-1 div.sk-label label {font-family: monospace;font-weight: bold;display: inline-block;line-height: 1.2em;}#sk-container-id-1 div.sk-label-container {text-align: center;}#sk-container-id-1 div.sk-container {/* jupyter's `normalize.less` sets `[hidden] { display: none; }` but bootstrap.min.css set `[hidden] { display: none !important; }` so we also need the `!important` here to be able to override the default hidden behavior on the sphinx rendered scikit-learn.org. See: https://github.com/scikit-learn/scikit-learn/issues/21755 */display: inline-block !important;position: relative;}#sk-container-id-1 div.sk-text-repr-fallback {display: none;}</style><div id=\"sk-container-id-1\" class=\"sk-top-container\"><div class=\"sk-text-repr-fallback\"><pre>LassoCV(cv=10, normalize=True, random_state=0)</pre><b>In a Jupyter environment, please rerun this cell to show the HTML representation or trust the notebook. <br />On GitHub, the HTML representation is unable to render, please try loading this page with nbviewer.org.</b></div><div class=\"sk-container\" hidden><div class=\"sk-item\"><div class=\"sk-estimator sk-toggleable\"><input class=\"sk-toggleable__control sk-hidden--visually\" id=\"sk-estimator-id-1\" type=\"checkbox\" checked><label for=\"sk-estimator-id-1\" class=\"sk-toggleable__label sk-toggleable__label-arrow\">LassoCV</label><div class=\"sk-toggleable__content\"><pre>LassoCV(cv=10, normalize=True, random_state=0)</pre></div></div></div></div></div>"
      ],
      "text/plain": [
       "LassoCV(cv=10, normalize=True, random_state=0)"
      ]
     },
     "execution_count": 11,
     "metadata": {},
     "output_type": "execute_result"
    }
   ],
   "source": [
    "lassocv = LassoCV(cv=10,random_state=0,normalize=True)\n",
    "lassocv.fit(X_train, y_train)"
   ]
  },
  {
   "cell_type": "code",
   "execution_count": 12,
   "id": "1f0ad960",
   "metadata": {},
   "outputs": [
    {
     "name": "stdout",
     "output_type": "stream",
     "text": [
      "Ideal Lambda Value:  0.0057453437864455085\n"
     ]
    }
   ],
   "source": [
    "# What was the ideal lambda value chosen?\n",
    "\n",
    "print(\"Ideal Lambda Value: \",lassocv.alpha_)"
   ]
  },
  {
   "cell_type": "code",
   "execution_count": 13,
   "id": "82d1ee8b",
   "metadata": {},
   "outputs": [
    {
     "name": "stdout",
     "output_type": "stream",
     "text": [
      "Ideal intercept:  1.0061963544057866\n",
      "Ideal betas: \n",
      " [-0.         -0.          0.          0.         -0.          0.\n",
      " -0.         -0.         -2.11561506  0.         -0.06043079 -0.\n",
      " -0.         -0.         -0.41674549 -0.18155256  0.          0.\n",
      " -0.          0.          0.         -0.19710223 -1.3655275   0.73510021\n",
      " -0.         -1.30018578  0.          0.          0.06390289  0.\n",
      " -0.          0.         -0.10737966  0.25392747  0.02138366  0.\n",
      "  0.          0.         -0.21159473  0.         -0.          0.\n",
      "  0.          0.01152326  1.53171531 -0.01408773  0.6504778  -0.09757869\n",
      "  0.          0.        ]\n"
     ]
    }
   ],
   "source": [
    "# Lets look at betas\n",
    "\n",
    "print(\"Ideal intercept: \", lassocv.intercept_)\n",
    "print(\"Ideal betas: \\n\",lassocv.coef_)"
   ]
  },
  {
   "cell_type": "code",
   "execution_count": 14,
   "id": "83cb19cb",
   "metadata": {},
   "outputs": [
    {
     "data": {
      "text/plain": [
       "array([0.1754545 , 0.16362945, 0.15260137, 0.14231655, 0.13272489,\n",
       "       0.12377968, 0.11543734, 0.10765725, 0.10040151, 0.09363479,\n",
       "       0.08732412, 0.08143876, 0.07595006, 0.07083128, 0.06605749,\n",
       "       0.06160544, 0.05745344, 0.05358127, 0.04997007, 0.04660225,\n",
       "       0.04346142, 0.04053226, 0.03780053, 0.0352529 , 0.03287697,\n",
       "       0.03066117, 0.02859471, 0.02666752, 0.02487022, 0.02319405,\n",
       "       0.02163085, 0.020173  , 0.01881341, 0.01754545, 0.01636295,\n",
       "       0.01526014, 0.01423166, 0.01327249, 0.01237797, 0.01154373,\n",
       "       0.01076573, 0.01004015, 0.00936348, 0.00873241, 0.00814388,\n",
       "       0.00759501, 0.00708313, 0.00660575, 0.00616054, 0.00574534,\n",
       "       0.00535813, 0.00499701, 0.00466023, 0.00434614, 0.00405323,\n",
       "       0.00378005, 0.00352529, 0.0032877 , 0.00306612, 0.00285947,\n",
       "       0.00266675, 0.00248702, 0.00231941, 0.00216309, 0.0020173 ,\n",
       "       0.00188134, 0.00175454, 0.00163629, 0.00152601, 0.00142317,\n",
       "       0.00132725, 0.0012378 , 0.00115437, 0.00107657, 0.00100402,\n",
       "       0.00093635, 0.00087324, 0.00081439, 0.0007595 , 0.00070831,\n",
       "       0.00066057, 0.00061605, 0.00057453, 0.00053581, 0.0004997 ,\n",
       "       0.00046602, 0.00043461, 0.00040532, 0.00037801, 0.00035253,\n",
       "       0.00032877, 0.00030661, 0.00028595, 0.00026668, 0.0002487 ,\n",
       "       0.00023194, 0.00021631, 0.00020173, 0.00018813, 0.00017545])"
      ]
     },
     "execution_count": 14,
     "metadata": {},
     "output_type": "execute_result"
    }
   ],
   "source": [
    "# Different values of alpha that were tested for -\n",
    "lassocv.alphas_"
   ]
  },
  {
   "cell_type": "code",
   "execution_count": 15,
   "id": "98428a71",
   "metadata": {},
   "outputs": [
    {
     "data": {
      "text/plain": [
       "array([[20.94065689, 14.72900042, 15.69614436, 21.84712398, 14.53303302,\n",
       "        13.57390585, 16.14868239, 26.12535392, 27.64805807, 20.48202264],\n",
       "       [19.81362409, 14.12578361, 15.10540247, 20.72546759, 13.97998755,\n",
       "        13.23514889, 15.01621653, 24.59567454, 26.29854625, 19.68280253],\n",
       "       [18.83271513, 13.61435305, 14.57847589, 19.74377456, 13.52281222,\n",
       "        12.97388577, 14.02699863, 23.24941401, 25.09285689, 18.98901436],\n",
       "       [17.97894263, 13.18186273, 13.95455398, 18.76109899, 13.07106216,\n",
       "        12.65726682, 12.98085158, 21.92118384, 23.83357459, 18.2888446 ],\n",
       "       [17.12744209, 12.45567265, 13.2745302 , 17.61898849, 12.31319701,\n",
       "        12.1932973 , 11.89350132, 20.748882  , 22.56731378, 17.40773895],\n",
       "       [15.79788637, 11.78303847, 12.6762949 , 16.62469836, 11.66068174,\n",
       "        11.804728  , 10.95162615, 19.71913545, 21.44764948, 16.65244735],\n",
       "       [14.63625398, 11.20142589, 12.14967289, 15.75907397, 11.09934795,\n",
       "        11.48072992, 10.13605847, 18.81405938, 20.45671426, 16.0058326 ],\n",
       "       [13.5174886 , 10.58119092, 11.59415627, 15.00539802, 10.60786076,\n",
       "        11.21195401,  9.27676042, 18.01802184, 19.57893138, 15.45304529],\n",
       "       [12.50872582,  9.99018501, 10.96788913, 13.96943479,  9.69008627,\n",
       "        10.58239751,  8.3867484 , 17.08426677, 18.70501824, 14.63622965],\n",
       "       [11.63041875,  9.48113857, 10.43400054, 12.97240607,  8.90362076,\n",
       "         9.96214492,  7.61694698, 15.89569958, 17.39505164, 13.81793977],\n",
       "       [10.86565096,  9.04304741,  9.97976434, 12.10380859,  8.23057301,\n",
       "         9.42601634,  6.95144584, 14.8540627 , 16.24142813, 13.09914241],\n",
       "       [10.19969188,  8.66635604,  9.59412414, 11.3447452 ,  7.65539306,\n",
       "         8.97094474,  6.48059543, 13.9408599 , 15.2247782 , 12.463975  ],\n",
       "       [ 9.61972571,  8.3401846 ,  9.26749916, 10.62329914,  7.16417779,\n",
       "         8.57355108,  5.99753824, 13.0906978 , 14.32816697, 11.90809979],\n",
       "       [ 9.01825857,  7.90509018,  8.96602161,  9.95797617,  6.57847353,\n",
       "         8.07884321,  5.48104918, 12.17861992, 13.36561772, 11.4103522 ],\n",
       "       [ 8.26668822,  7.51544415,  8.34282837,  9.37826446,  5.99752719,\n",
       "         7.56186236,  5.03977254, 11.33007972, 12.36952073, 10.69866537],\n",
       "       [ 7.59548088,  7.13119676,  7.74469347,  8.82015079,  5.42260096,\n",
       "         7.1503355 ,  4.6497056 , 10.54507844, 11.48856203, 10.01981693],\n",
       "       [ 7.01873646,  6.80232225,  7.2288608 ,  8.27508258,  4.92287826,\n",
       "         6.78968497,  4.32054961,  9.85813191, 10.70956372,  9.38427037],\n",
       "       [ 6.52061731,  6.49998759,  6.77411488,  7.79757541,  4.49090091,\n",
       "         6.47346951,  4.03711492,  9.25676168,  9.90759119,  8.82031607],\n",
       "       [ 6.07586433,  6.24114977,  6.37185868,  7.35921631,  4.13369939,\n",
       "         6.17768213,  3.79482722,  8.72446035,  9.14632772,  8.32138203],\n",
       "       [ 5.66936091,  6.01527729,  6.01006523,  6.97305785,  3.82182192,\n",
       "         5.91159908,  3.58847288,  8.21520405,  8.47870463,  7.88113742],\n",
       "       [ 5.29269548,  5.75529624,  5.6554139 ,  6.63988483,  3.56667538,\n",
       "         5.67975292,  3.39847791,  7.73816408,  7.89300441,  7.46902432],\n",
       "       [ 4.96418188,  5.45614458,  5.3346215 ,  6.35263414,  3.34250078,\n",
       "         5.4736862 ,  3.21084992,  7.30263831,  7.31983861,  7.09695432],\n",
       "       [ 4.67761232,  5.20086632,  5.06195121,  6.1051541 ,  3.14540854,\n",
       "         5.23342353,  3.0515139 ,  6.8935299 ,  6.74890742,  6.76616973],\n",
       "       [ 4.42758054,  4.98291135,  4.83074355,  5.86457404,  2.97201371,\n",
       "         5.01047267,  2.91697676,  6.53799575,  6.23317708,  6.47178414],\n",
       "       [ 4.20938056,  4.79715765,  4.63519357,  5.64267871,  2.81936273,\n",
       "         4.8204651 ,  2.8047353 ,  6.2073635 ,  5.78009184,  6.20958433],\n",
       "       [ 4.0164458 ,  4.63916385,  4.46817951,  5.44872207,  2.68487776,\n",
       "         4.65746598,  2.71153879,  5.92038528,  5.38200562,  5.9547763 ],\n",
       "       [ 3.84382099,  4.50507076,  4.32636416,  5.27913764,  2.55930317,\n",
       "         4.51777601,  2.63466362,  5.67134459,  5.03207745,  5.72149786],\n",
       "       [ 3.67562182,  4.39154132,  4.20485606,  5.11603891,  2.43106953,\n",
       "         4.39821897,  2.5502363 ,  5.42331621,  4.7242817 ,  5.51293917],\n",
       "       [ 3.53254071,  4.29399751,  4.04438386,  4.93315238,  2.32025282,\n",
       "         4.25791725,  2.45836102,  5.19965663,  4.45336181,  5.24091914],\n",
       "       [ 3.4111871 ,  4.13006716,  3.90774801,  4.76914569,  2.22462452,\n",
       "         4.10472332,  2.37982626,  5.00552214,  4.12500628,  4.98714225],\n",
       "       [ 3.30852296,  3.98629331,  3.79158829,  4.62276254,  2.14192838,\n",
       "         3.96992127,  2.31283418,  4.83705418,  3.83030496,  4.76352858],\n",
       "       [ 3.22191967,  3.85997364,  3.69308517,  4.49321857,  2.07055381,\n",
       "         3.85082845,  2.25594924,  4.69088409,  3.57402403,  4.56639201],\n",
       "       [ 3.14910406,  3.7489203 ,  3.61915898,  4.37847193,  2.00898965,\n",
       "         3.74570938,  2.20746559,  4.577446  ,  3.35451509,  4.39332103],\n",
       "       [ 3.08811129,  3.6452634 ,  3.56285097,  4.27673536,  1.95592343,\n",
       "         3.65284874,  2.16084905,  4.47993532,  3.16583789,  4.24941661],\n",
       "       [ 3.03732882,  3.55868298,  3.51751016,  4.18367208,  1.90346527,\n",
       "         3.57074648,  2.1233374 ,  4.39516055,  3.00349556,  4.12430848],\n",
       "       [ 2.97575674,  3.4846519 ,  3.4814646 ,  4.10145651,  1.85076853,\n",
       "         3.49809141,  2.09456471,  4.3160432 ,  2.86067979,  4.02603403],\n",
       "       [ 2.92094915,  3.4187219 ,  3.44858503,  4.02910067,  1.79857105,\n",
       "         3.42112192,  2.07177275,  4.23643124,  2.74005916,  3.9438795 ],\n",
       "       [ 2.87098832,  3.35793233,  3.40423743,  3.95935948,  1.75346832,\n",
       "         3.3277326 ,  2.05382305,  4.16800089,  2.63485425,  3.87352682],\n",
       "       [ 2.82732495,  3.30547905,  3.36672847,  3.8714598 ,  1.71513368,\n",
       "         3.24106269,  2.03942239,  4.10927757,  2.54567334,  3.81341963],\n",
       "       [ 2.78925092,  3.26024523,  3.33513731,  3.79658212,  1.68192324,\n",
       "         3.16367306,  2.01912461,  4.06133611,  2.47074041,  3.76215092],\n",
       "       [ 2.75604584,  3.22126437,  3.2998608 ,  3.72929308,  1.64714102,\n",
       "         3.09466725,  2.0024849 ,  4.02179493,  2.4080005 ,  3.71850145],\n",
       "       [ 2.72707109,  3.187698  ,  3.26564044,  3.66875024,  1.61763181,\n",
       "         3.03262538,  1.99608954,  3.98813856,  2.35742731,  3.68145052],\n",
       "       [ 2.68707051,  3.15778706,  3.2362866 ,  3.61045948,  1.59285675,\n",
       "         2.97693062,  1.9960148 ,  3.96729952,  2.3099282 ,  3.6500073 ],\n",
       "       [ 2.65218836,  3.13187343,  3.21045635,  3.56327656,  1.57202265,\n",
       "         2.92519269,  1.99560071,  3.94912068,  2.2702252 ,  3.62342305],\n",
       "       [ 2.62139037,  3.10955503,  3.18511121,  3.52067083,  1.55464219,\n",
       "         2.87610133,  1.99608963,  3.92157723,  2.23705751,  3.59947723],\n",
       "       [ 2.59401442,  3.09031596,  3.16318671,  3.48042356,  1.54021672,\n",
       "         2.84206944,  1.99794457,  3.89911658,  2.21070005,  3.57574096],\n",
       "       [ 2.56976935,  3.07374268,  3.14448279,  3.44420372,  1.52831479,\n",
       "         2.82041629,  2.00084573,  3.88134273,  2.18842238,  3.55613319],\n",
       "       [ 2.54806041,  3.05975753,  3.13954001,  3.4084052 ,  1.51802964,\n",
       "         2.8017641 ,  2.00778121,  3.86914397,  2.17527882,  3.54329599],\n",
       "       [ 2.528701  ,  3.05517614,  3.14071519,  3.37841566,  1.50843365,\n",
       "         2.78709708,  2.02346023,  3.86038712,  2.17273102,  3.53559369],\n",
       "       [ 2.51318533,  3.05340082,  3.14345749,  3.35405883,  1.50032132,\n",
       "         2.77553684,  2.042196  ,  3.85361678,  2.17512737,  3.52950411],\n",
       "       [ 2.50007517,  3.06287592,  3.15102517,  3.33193519,  1.49572005,\n",
       "         2.76612407,  2.06416584,  3.84895835,  2.19547992,  3.52479901],\n",
       "       [ 2.49136664,  3.07504473,  3.16352956,  3.30870081,  1.4947648 ,\n",
       "         2.75788888,  2.08583481,  3.85103873,  2.22463507,  3.52125934],\n",
       "       [ 2.4835693 ,  3.08649222,  3.1745306 ,  3.28719662,  1.49825585,\n",
       "         2.74979025,  2.10713573,  3.85962495,  2.25410881,  3.51836656],\n",
       "       [ 2.47719118,  3.0959938 ,  3.18293016,  3.26917063,  1.50650203,\n",
       "         2.74278521,  2.12820797,  3.86971135,  2.28507652,  3.51464173],\n",
       "       [ 2.4741333 ,  3.1055193 ,  3.19122993,  3.25993406,  1.5186542 ,\n",
       "         2.73681463,  2.14793681,  3.88223727,  2.32068249,  3.52002038],\n",
       "       [ 2.46758769,  3.11506412,  3.19568696,  3.25305777,  1.53039814,\n",
       "         2.73173797,  2.17599418,  3.89710979,  2.35932519,  3.53140362],\n",
       "       [ 2.45879716,  3.12290885,  3.19603031,  3.24405777,  1.53875223,\n",
       "         2.72752221,  2.20404756,  3.90253676,  2.4114558 ,  3.54731117],\n",
       "       [ 2.45157981,  3.12785189,  3.18513844,  3.2345686 ,  1.54476945,\n",
       "         2.7234042 ,  2.23147297,  3.89936541,  2.45886405,  3.55661062],\n",
       "       [ 2.44924586,  3.1313501 ,  3.17574067,  3.21691102,  1.54943848,\n",
       "         2.72319263,  2.25813861,  3.8979196 ,  2.50823079,  3.5658626 ],\n",
       "       [ 2.4512642 ,  3.1387844 ,  3.16898989,  3.19081832,  1.55541204,\n",
       "         2.7240815 ,  2.28556434,  3.90052134,  2.56328472,  3.56840339],\n",
       "       [ 2.45293701,  3.14620811,  3.15899326,  3.16959149,  1.56242604,\n",
       "         2.73355174,  2.31760653,  3.90931366,  2.61663466,  3.56963767],\n",
       "       [ 2.45490397,  3.15477924,  3.15053325,  3.14688456,  1.57329911,\n",
       "         2.74249379,  2.34740681,  3.920271  ,  2.66799466,  3.57158331],\n",
       "       [ 2.45697354,  3.16320937,  3.14611633,  3.12625394,  1.58661632,\n",
       "         2.75087027,  2.37436523,  3.93142549,  2.72038149,  3.57358288],\n",
       "       [ 2.45991561,  3.16865856,  3.14572896,  3.10774085,  1.60042684,\n",
       "         2.75531361,  2.4003384 ,  3.93932789,  2.79392516,  3.57630948],\n",
       "       [ 2.46440193,  3.17144493,  3.15381335,  3.09110152,  1.61770954,\n",
       "         2.7597535 ,  2.42199506,  3.94649045,  2.8664294 ,  3.58147223],\n",
       "       [ 2.46909369,  3.17572721,  3.16392627,  3.07536273,  1.6417494 ,\n",
       "         2.76371597,  2.44392439,  3.95416137,  2.93285466,  3.59597004],\n",
       "       [ 2.47210362,  3.17963479,  3.17712615,  3.06057381,  1.6654119 ,\n",
       "         2.7682559 ,  2.46618721,  3.96220767,  3.00002309,  3.61018092],\n",
       "       [ 2.47647874,  3.17786794,  3.19056133,  3.0472914 ,  1.68881152,\n",
       "         2.7749593 ,  2.48872106,  3.96755922,  3.06485763,  3.62366772],\n",
       "       [ 2.48183849,  3.179787  ,  3.20739092,  3.03581183,  1.71371681,\n",
       "         2.78272182,  2.51236402,  3.97198667,  3.12717655,  3.63646992],\n",
       "       [ 2.48791539,  3.18505874,  3.22261006,  3.02489969,  1.73796515,\n",
       "         2.79017412,  2.5388124 ,  3.98350722,  3.19056496,  3.64876355],\n",
       "       [ 2.49797766,  3.19019943,  3.23721359,  3.0114232 ,  1.76128174,\n",
       "         2.79466646,  2.56459843,  4.00037979,  3.26038843,  3.66229705],\n",
       "       [ 2.51192676,  3.18807373,  3.25130185,  3.00051928,  1.78171353,\n",
       "         2.80059396,  2.59100507,  4.01677664,  3.3275599 ,  3.67438349],\n",
       "       [ 2.52517435,  3.18554921,  3.26493585,  2.99140899,  1.80555753,\n",
       "         2.80732769,  2.61685478,  4.02255827,  3.38839231,  3.68406623],\n",
       "       [ 2.53792424,  3.18787568,  3.27718248,  2.98405969,  1.82980871,\n",
       "         2.81360372,  2.6421874 ,  4.02823881,  3.44479446,  3.69385668],\n",
       "       [ 2.54834341,  3.19991401,  3.28982004,  2.9822875 ,  1.85055764,\n",
       "         2.81468665,  2.6658006 ,  4.03991796,  3.50374328,  3.7042542 ],\n",
       "       [ 2.55862286,  3.21236132,  3.29588568,  2.99126315,  1.86623563,\n",
       "         2.81603931,  2.68908393,  4.0512166 ,  3.56045229,  3.71456916],\n",
       "       [ 2.56463413,  3.22652262,  3.29440609,  3.00189819,  1.87918504,\n",
       "         2.81782804,  2.71171726,  4.06245961,  3.61437722,  3.72255546],\n",
       "       [ 2.55799577,  3.2383458 ,  3.28924144,  3.01338203,  1.89185264,\n",
       "         2.8177296 ,  2.73200042,  4.07156861,  3.66467622,  3.71536285],\n",
       "       [ 2.55134429,  3.24095391,  3.28505763,  3.02316713,  1.90283794,\n",
       "         2.81433777,  2.74688581,  4.07941263,  3.71242336,  3.70886233],\n",
       "       [ 2.54904423,  3.2404758 ,  3.28176283,  3.03215326,  1.9095768 ,\n",
       "         2.81064333,  2.76093293,  4.08447776,  3.76106389,  3.70197899],\n",
       "       [ 2.54858742,  3.23854098,  3.27908153,  3.03902346,  1.9175641 ,\n",
       "         2.80747566,  2.7745622 ,  4.09480171,  3.80686689,  3.69988973],\n",
       "       [ 2.5488148 ,  3.23650111,  3.27801417,  3.04487738,  1.92523356,\n",
       "         2.80518135,  2.78324814,  4.1154372 ,  3.8472789 ,  3.70355414],\n",
       "       [ 2.54953594,  3.23820679,  3.27716903,  3.04843609,  1.93212819,\n",
       "         2.8033007 ,  2.79177673,  4.13515143,  3.88375128,  3.70167258],\n",
       "       [ 2.55052735,  3.24417709,  3.27840918,  3.04883218,  1.93798548,\n",
       "         2.80125616,  2.80092497,  4.15505919,  3.91602688,  3.69898184],\n",
       "       [ 2.55745853,  3.2505665 ,  3.2833895 ,  3.04999265,  1.94498487,\n",
       "         2.79845713,  2.81314225,  4.17404855,  3.94603581,  3.69833654],\n",
       "       [ 2.56749503,  3.25669668,  3.28535557,  3.05088933,  1.95242153,\n",
       "         2.79571095,  2.82587036,  4.19418198,  3.97785259,  3.6992293 ],\n",
       "       [ 2.57656751,  3.26151304,  3.28771849,  3.05211668,  1.95799202,\n",
       "         2.79304883,  2.83943504,  4.21296679,  4.00809881,  3.69945992],\n",
       "       [ 2.58542939,  3.26600661,  3.29011046,  3.05463819,  1.96375905,\n",
       "         2.78809506,  2.85313563,  4.22867569,  4.03642149,  3.69990112],\n",
       "       [ 2.59425993,  3.27040818,  3.29308035,  3.05823247,  1.97447507,\n",
       "         2.78156759,  2.86150878,  4.24384187,  4.06496213,  3.70042509],\n",
       "       [ 2.60282905,  3.27474445,  3.29808981,  3.06178678,  1.98343204,\n",
       "         2.77760817,  2.88019153,  4.25606364,  4.09609736,  3.70103541],\n",
       "       [ 2.61085342,  3.2799154 ,  3.30256113,  3.06786867,  1.99409463,\n",
       "         2.77722943,  2.89962859,  4.2706036 ,  4.12624199,  3.70177206],\n",
       "       [ 2.61843295,  3.28517546,  3.30676463,  3.07843394,  2.00614449,\n",
       "         2.77754802,  2.91801183,  4.28443331,  4.15751005,  3.70257345],\n",
       "       [ 2.62566944,  3.29252724,  3.31109884,  3.08275816,  2.01772195,\n",
       "         2.77825571,  2.93535546,  4.29756866,  4.20091264,  3.7033696 ],\n",
       "       [ 2.6326925 ,  3.29902599,  3.31648128,  3.08592906,  2.02882141,\n",
       "         2.77868082,  2.95181021,  4.31004152,  4.25100207,  3.70211407],\n",
       "       [ 2.63618595,  3.30484033,  3.32172241,  3.08904766,  2.03941352,\n",
       "         2.77861662,  2.9679462 ,  4.32066802,  4.27976009,  3.70015369],\n",
       "       [ 2.63765205,  3.31000585,  3.32672349,  3.09213466,  2.04544431,\n",
       "         2.77850701,  2.9847288 ,  4.32942366,  4.30830565,  3.69836201],\n",
       "       [ 2.63401132,  3.31509499,  3.3314346 ,  3.09532341,  2.05137723,\n",
       "         2.77871602,  3.00312587,  4.3376996 ,  4.33684632,  3.69756522],\n",
       "       [ 2.62961605,  3.32029947,  3.33506052,  3.10096581,  2.06304714,\n",
       "         2.7795074 ,  3.02128941,  4.34638587,  4.36897792,  3.6969939 ],\n",
       "       [ 2.62695309,  3.32562452,  3.33625248,  3.10381561,  2.07295417,\n",
       "         2.77715585,  3.03790533,  4.35571867,  4.40786692,  3.69722482],\n",
       "       [ 2.6279211 ,  3.33029464,  3.33692787,  3.10368978,  2.0823291 ,\n",
       "         2.77310393,  3.05336018,  4.36461435,  4.44334745,  3.69681819]])"
      ]
     },
     "execution_count": 15,
     "metadata": {},
     "output_type": "execute_result"
    }
   ],
   "source": [
    "# 10 runs performed for each alpha value. Here are corresponding MSE values for each run -\n",
    "lassocv.mse_path_"
   ]
  },
  {
   "cell_type": "code",
   "execution_count": 16,
   "id": "d16a7c26",
   "metadata": {},
   "outputs": [],
   "source": [
    "# Let's predict using test set -\n",
    "y_pred = lassocv.predict(X_test)"
   ]
  },
  {
   "cell_type": "code",
   "execution_count": 17,
   "id": "d8db33d4",
   "metadata": {},
   "outputs": [
    {
     "data": {
      "text/plain": [
       "2.3597086675768337"
      ]
     },
     "execution_count": 17,
     "metadata": {},
     "output_type": "execute_result"
    }
   ],
   "source": [
    "# What is the MSE on test set?\n",
    "get_mse(y_test,y_pred)"
   ]
  },
  {
   "cell_type": "markdown",
   "id": "78619ac9",
   "metadata": {},
   "source": [
    "## Visualize"
   ]
  },
  {
   "cell_type": "code",
   "execution_count": 18,
   "id": "88723506",
   "metadata": {},
   "outputs": [
    {
     "name": "stderr",
     "output_type": "stream",
     "text": [
      "/var/folders/8w/snj_8lln2bz87z87f46_k0t00000gn/T/ipykernel_26897/850090165.py:7: SettingWithCopyWarning: \n",
      "A value is trying to be set on a copy of a slice from a DataFrame\n",
      "\n",
      "See the caveats in the documentation: https://pandas.pydata.org/pandas-docs/stable/user_guide/indexing.html#returning-a-view-versus-a-copy\n",
      "  df3['index'][1:]=df3['index'][1:]+1\n"
     ]
    },
    {
     "data": {
      "text/html": [
       "<div>\n",
       "<style scoped>\n",
       "    .dataframe tbody tr th:only-of-type {\n",
       "        vertical-align: middle;\n",
       "    }\n",
       "\n",
       "    .dataframe tbody tr th {\n",
       "        vertical-align: top;\n",
       "    }\n",
       "\n",
       "    .dataframe thead th {\n",
       "        text-align: right;\n",
       "    }\n",
       "</style>\n",
       "<table border=\"1\" class=\"dataframe\">\n",
       "  <thead>\n",
       "    <tr style=\"text-align: right;\">\n",
       "      <th></th>\n",
       "      <th>Lasso</th>\n",
       "      <th>Direct</th>\n",
       "    </tr>\n",
       "  </thead>\n",
       "  <tbody>\n",
       "    <tr>\n",
       "      <th>0</th>\n",
       "      <td>1.006196</td>\n",
       "      <td>0.972524</td>\n",
       "    </tr>\n",
       "    <tr>\n",
       "      <th>9</th>\n",
       "      <td>-2.115615</td>\n",
       "      <td>-2.308207</td>\n",
       "    </tr>\n",
       "    <tr>\n",
       "      <th>11</th>\n",
       "      <td>-0.060431</td>\n",
       "      <td>0.000000</td>\n",
       "    </tr>\n",
       "    <tr>\n",
       "      <th>15</th>\n",
       "      <td>-0.416745</td>\n",
       "      <td>-0.518326</td>\n",
       "    </tr>\n",
       "    <tr>\n",
       "      <th>16</th>\n",
       "      <td>-0.181553</td>\n",
       "      <td>-0.204162</td>\n",
       "    </tr>\n",
       "    <tr>\n",
       "      <th>22</th>\n",
       "      <td>-0.197102</td>\n",
       "      <td>0.000000</td>\n",
       "    </tr>\n",
       "    <tr>\n",
       "      <th>23</th>\n",
       "      <td>-1.365528</td>\n",
       "      <td>-1.559143</td>\n",
       "    </tr>\n",
       "    <tr>\n",
       "      <th>24</th>\n",
       "      <td>0.735100</td>\n",
       "      <td>0.866973</td>\n",
       "    </tr>\n",
       "    <tr>\n",
       "      <th>26</th>\n",
       "      <td>-1.300186</td>\n",
       "      <td>-1.311919</td>\n",
       "    </tr>\n",
       "    <tr>\n",
       "      <th>29</th>\n",
       "      <td>0.063903</td>\n",
       "      <td>0.000000</td>\n",
       "    </tr>\n",
       "    <tr>\n",
       "      <th>33</th>\n",
       "      <td>-0.107380</td>\n",
       "      <td>0.000000</td>\n",
       "    </tr>\n",
       "    <tr>\n",
       "      <th>34</th>\n",
       "      <td>0.253927</td>\n",
       "      <td>0.408165</td>\n",
       "    </tr>\n",
       "    <tr>\n",
       "      <th>35</th>\n",
       "      <td>0.021384</td>\n",
       "      <td>0.000000</td>\n",
       "    </tr>\n",
       "    <tr>\n",
       "      <th>39</th>\n",
       "      <td>-0.211595</td>\n",
       "      <td>0.000000</td>\n",
       "    </tr>\n",
       "    <tr>\n",
       "      <th>44</th>\n",
       "      <td>0.011523</td>\n",
       "      <td>0.000000</td>\n",
       "    </tr>\n",
       "    <tr>\n",
       "      <th>45</th>\n",
       "      <td>1.531715</td>\n",
       "      <td>1.781475</td>\n",
       "    </tr>\n",
       "    <tr>\n",
       "      <th>46</th>\n",
       "      <td>-0.014088</td>\n",
       "      <td>0.000000</td>\n",
       "    </tr>\n",
       "    <tr>\n",
       "      <th>47</th>\n",
       "      <td>0.650478</td>\n",
       "      <td>0.887383</td>\n",
       "    </tr>\n",
       "    <tr>\n",
       "      <th>48</th>\n",
       "      <td>-0.097579</td>\n",
       "      <td>-0.282292</td>\n",
       "    </tr>\n",
       "  </tbody>\n",
       "</table>\n",
       "</div>"
      ],
      "text/plain": [
       "       Lasso    Direct\n",
       "0   1.006196  0.972524\n",
       "9  -2.115615 -2.308207\n",
       "11 -0.060431  0.000000\n",
       "15 -0.416745 -0.518326\n",
       "16 -0.181553 -0.204162\n",
       "22 -0.197102  0.000000\n",
       "23 -1.365528 -1.559143\n",
       "24  0.735100  0.866973\n",
       "26 -1.300186 -1.311919\n",
       "29  0.063903  0.000000\n",
       "33 -0.107380  0.000000\n",
       "34  0.253927  0.408165\n",
       "35  0.021384  0.000000\n",
       "39 -0.211595  0.000000\n",
       "44  0.011523  0.000000\n",
       "45  1.531715  1.781475\n",
       "46 -0.014088  0.000000\n",
       "47  0.650478  0.887383\n",
       "48 -0.097579 -0.282292"
      ]
     },
     "execution_count": 18,
     "metadata": {},
     "output_type": "execute_result"
    }
   ],
   "source": [
    "df = pd.DataFrame(columns=['Direct'])\n",
    "df['Direct'] = pd.Series(betas_test)\n",
    "df2 = pd.DataFrame(columns=['Lasso'])\n",
    "inter=pd.Series(lassocv.intercept_)\n",
    "df2['Lasso'] = pd.concat([inter,pd.Series(lassocv.coef_)])\n",
    "df3=df2.reset_index()\n",
    "df3['index'][1:]=df3['index'][1:]+1\n",
    "final = pd.DataFrame(columns=['Lasso','Direct'])\n",
    "final['Lasso'] = df3['Lasso']\n",
    "final['Direct'] = df['Direct']\n",
    "final=final[(final['Direct'] != 0) | (final['Lasso'] != 0)]\n",
    "\n",
    "# Let's compare\n",
    "final"
   ]
  },
  {
   "cell_type": "code",
   "execution_count": 19,
   "id": "35c95289",
   "metadata": {},
   "outputs": [
    {
     "data": {
      "image/png": "[encoded data removed]",
      "text/plain": [
       "<Figure size 1000x500 with 1 Axes>"
      ]
     },
     "metadata": {},
     "output_type": "display_data"
    }
   ],
   "source": [
    "# Let's visualize -\n",
    "fig = plt.figure(figsize = (10, 5))\n",
    "width = 0.5\n",
    "ind = np.arange(len(final))\n",
    "plt.xticks(ind + width / 2, final.index)\n",
    "plt.bar(ind, final['Direct'], label='MIQP', width=width)\n",
    "plt.bar(ind + width, final['Lasso'], label='LASSO', width=width)\n",
    "\n",
    "plt.xlabel('Predictors')\n",
    "plt.xticks(rotation = -45)\n",
    "plt.ylabel('Beta value')\n",
    "plt.title('Comparison of MIQP and Lasso in terms of Beta values')\n",
    "plt.legend()\n",
    "plt.show()"
   ]
  }
 ],
 "metadata": {
  "kernelspec": {
   "display_name": "Python 3 (ipykernel)",
   "language": "python",
   "name": "python3"
  },
  "language_info": {
   "codemirror_mode": {
    "name": "ipython",
    "version": 3
   },
   "file_extension": ".py",
   "mimetype": "text/x-python",
   "name": "python",
   "nbconvert_exporter": "python",
   "pygments_lexer": "ipython3",
   "version": "3.9.12"
  }
 },
 "nbformat": 4,
 "nbformat_minor": 5
}
